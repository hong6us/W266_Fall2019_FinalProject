{
 "cells": [
  {
   "cell_type": "markdown",
   "metadata": {},
   "source": [
    "# Consumer Complaints NLP models\n",
    "\n",
    "There are two models created to predict product based on consumer complaints: LSMT model and Attention model"
   ]
  },
  {
   "cell_type": "code",
   "execution_count": 2,
   "metadata": {},
   "outputs": [
    {
     "name": "stderr",
     "output_type": "stream",
     "text": [
      "Using TensorFlow backend.\n"
     ]
    }
   ],
   "source": [
    "import numpy as np \n",
    "import pandas as pd\n",
    "import matplotlib.pyplot as plt\n",
    "import seaborn as sns\n",
    "from keras.preprocessing.text import Tokenizer\n",
    "from keras.preprocessing.sequence import pad_sequences\n",
    "from keras.models import Sequential, Model\n",
    "from keras.layers import Dense, Input, GlobalAveragePooling1D, Embedding, LSTM, SpatialDropout1D\n",
    "from sklearn.model_selection import train_test_split\n",
    "from keras.utils.np_utils import to_categorical\n",
    "from keras.callbacks import EarlyStopping\n",
    "from keras.layers import Dropout\n",
    "from sklearn.metrics import confusion_matrix\n",
    "import re\n",
    "from nltk.corpus import stopwords\n",
    "from nltk import word_tokenize\n",
    "STOPWORDS = set(stopwords.words('english'))\n",
    "from bs4 import BeautifulSoup\n",
    "from keras import backend as K\n",
    "from keras.engine.topology import Layer"
   ]
  },
  {
   "cell_type": "code",
   "execution_count": 3,
   "metadata": {},
   "outputs": [],
   "source": [
    "df = pd.read_csv('consumer_complaints.csv')"
   ]
  },
  {
   "cell_type": "code",
   "execution_count": 4,
   "metadata": {},
   "outputs": [
    {
     "data": {
      "text/html": [
       "<div>\n",
       "<style scoped>\n",
       "    .dataframe tbody tr th:only-of-type {\n",
       "        vertical-align: middle;\n",
       "    }\n",
       "\n",
       "    .dataframe tbody tr th {\n",
       "        vertical-align: top;\n",
       "    }\n",
       "\n",
       "    .dataframe thead th {\n",
       "        text-align: right;\n",
       "    }\n",
       "</style>\n",
       "<table border=\"1\" class=\"dataframe\">\n",
       "  <thead>\n",
       "    <tr style=\"text-align: right;\">\n",
       "      <th></th>\n",
       "      <th>Date received</th>\n",
       "      <th>Product</th>\n",
       "      <th>Sub-product</th>\n",
       "      <th>Issue</th>\n",
       "      <th>Sub-issue</th>\n",
       "      <th>Consumer complaint narrative</th>\n",
       "      <th>Company public response</th>\n",
       "      <th>Company</th>\n",
       "      <th>State</th>\n",
       "      <th>ZIP code</th>\n",
       "      <th>Tags</th>\n",
       "      <th>Consumer consent provided?</th>\n",
       "      <th>Submitted via</th>\n",
       "      <th>Date sent to company</th>\n",
       "      <th>Company response to consumer</th>\n",
       "      <th>Timely response?</th>\n",
       "      <th>Consumer disputed?</th>\n",
       "      <th>Complaint ID</th>\n",
       "    </tr>\n",
       "  </thead>\n",
       "  <tbody>\n",
       "    <tr>\n",
       "      <td>0</td>\n",
       "      <td>3/12/2014</td>\n",
       "      <td>Mortgage</td>\n",
       "      <td>Other mortgage</td>\n",
       "      <td>Loan modification,collection,foreclosure</td>\n",
       "      <td>NaN</td>\n",
       "      <td>NaN</td>\n",
       "      <td>NaN</td>\n",
       "      <td>M&amp;T BANK CORPORATION</td>\n",
       "      <td>MI</td>\n",
       "      <td>48382</td>\n",
       "      <td>NaN</td>\n",
       "      <td>NaN</td>\n",
       "      <td>Referral</td>\n",
       "      <td>3/17/2014</td>\n",
       "      <td>Closed with explanation</td>\n",
       "      <td>Yes</td>\n",
       "      <td>No</td>\n",
       "      <td>759217</td>\n",
       "    </tr>\n",
       "    <tr>\n",
       "      <td>1</td>\n",
       "      <td>10/1/2016</td>\n",
       "      <td>Credit reporting</td>\n",
       "      <td>NaN</td>\n",
       "      <td>Incorrect information on credit report</td>\n",
       "      <td>Account status</td>\n",
       "      <td>I have outdated information on my credit repor...</td>\n",
       "      <td>Company has responded to the consumer and the ...</td>\n",
       "      <td>TRANSUNION INTERMEDIATE HOLDINGS, INC.</td>\n",
       "      <td>AL</td>\n",
       "      <td>352XX</td>\n",
       "      <td>NaN</td>\n",
       "      <td>Consent provided</td>\n",
       "      <td>Web</td>\n",
       "      <td>10/5/2016</td>\n",
       "      <td>Closed with explanation</td>\n",
       "      <td>Yes</td>\n",
       "      <td>No</td>\n",
       "      <td>2141773</td>\n",
       "    </tr>\n",
       "    <tr>\n",
       "      <td>2</td>\n",
       "      <td>10/17/2016</td>\n",
       "      <td>Consumer Loan</td>\n",
       "      <td>Vehicle loan</td>\n",
       "      <td>Managing the loan or lease</td>\n",
       "      <td>NaN</td>\n",
       "      <td>I purchased a new car on XXXX XXXX. The car de...</td>\n",
       "      <td>NaN</td>\n",
       "      <td>CITIZENS FINANCIAL GROUP, INC.</td>\n",
       "      <td>PA</td>\n",
       "      <td>177XX</td>\n",
       "      <td>Older American</td>\n",
       "      <td>Consent provided</td>\n",
       "      <td>Web</td>\n",
       "      <td>10/20/2016</td>\n",
       "      <td>Closed with explanation</td>\n",
       "      <td>Yes</td>\n",
       "      <td>No</td>\n",
       "      <td>2163100</td>\n",
       "    </tr>\n",
       "    <tr>\n",
       "      <td>3</td>\n",
       "      <td>6/8/2014</td>\n",
       "      <td>Credit card</td>\n",
       "      <td>NaN</td>\n",
       "      <td>Bankruptcy</td>\n",
       "      <td>NaN</td>\n",
       "      <td>NaN</td>\n",
       "      <td>NaN</td>\n",
       "      <td>AMERICAN EXPRESS COMPANY</td>\n",
       "      <td>ID</td>\n",
       "      <td>83854</td>\n",
       "      <td>Older American</td>\n",
       "      <td>NaN</td>\n",
       "      <td>Web</td>\n",
       "      <td>6/10/2014</td>\n",
       "      <td>Closed with explanation</td>\n",
       "      <td>Yes</td>\n",
       "      <td>Yes</td>\n",
       "      <td>885638</td>\n",
       "    </tr>\n",
       "    <tr>\n",
       "      <td>4</td>\n",
       "      <td>9/13/2014</td>\n",
       "      <td>Debt collection</td>\n",
       "      <td>Credit card</td>\n",
       "      <td>Communication tactics</td>\n",
       "      <td>Frequent or repeated calls</td>\n",
       "      <td>NaN</td>\n",
       "      <td>NaN</td>\n",
       "      <td>CITIBANK, N.A.</td>\n",
       "      <td>VA</td>\n",
       "      <td>23233</td>\n",
       "      <td>NaN</td>\n",
       "      <td>NaN</td>\n",
       "      <td>Web</td>\n",
       "      <td>9/13/2014</td>\n",
       "      <td>Closed with explanation</td>\n",
       "      <td>Yes</td>\n",
       "      <td>Yes</td>\n",
       "      <td>1027760</td>\n",
       "    </tr>\n",
       "  </tbody>\n",
       "</table>\n",
       "</div>"
      ],
      "text/plain": [
       "  Date received           Product     Sub-product  \\\n",
       "0     3/12/2014          Mortgage  Other mortgage   \n",
       "1     10/1/2016  Credit reporting             NaN   \n",
       "2    10/17/2016     Consumer Loan    Vehicle loan   \n",
       "3      6/8/2014       Credit card             NaN   \n",
       "4     9/13/2014   Debt collection     Credit card   \n",
       "\n",
       "                                      Issue                   Sub-issue  \\\n",
       "0  Loan modification,collection,foreclosure                         NaN   \n",
       "1    Incorrect information on credit report              Account status   \n",
       "2                Managing the loan or lease                         NaN   \n",
       "3                                Bankruptcy                         NaN   \n",
       "4                     Communication tactics  Frequent or repeated calls   \n",
       "\n",
       "                        Consumer complaint narrative  \\\n",
       "0                                                NaN   \n",
       "1  I have outdated information on my credit repor...   \n",
       "2  I purchased a new car on XXXX XXXX. The car de...   \n",
       "3                                                NaN   \n",
       "4                                                NaN   \n",
       "\n",
       "                             Company public response  \\\n",
       "0                                                NaN   \n",
       "1  Company has responded to the consumer and the ...   \n",
       "2                                                NaN   \n",
       "3                                                NaN   \n",
       "4                                                NaN   \n",
       "\n",
       "                                  Company State ZIP code            Tags  \\\n",
       "0                    M&T BANK CORPORATION    MI    48382             NaN   \n",
       "1  TRANSUNION INTERMEDIATE HOLDINGS, INC.    AL    352XX             NaN   \n",
       "2          CITIZENS FINANCIAL GROUP, INC.    PA    177XX  Older American   \n",
       "3                AMERICAN EXPRESS COMPANY    ID    83854  Older American   \n",
       "4                          CITIBANK, N.A.    VA    23233             NaN   \n",
       "\n",
       "  Consumer consent provided? Submitted via Date sent to company  \\\n",
       "0                        NaN      Referral            3/17/2014   \n",
       "1           Consent provided           Web            10/5/2016   \n",
       "2           Consent provided           Web           10/20/2016   \n",
       "3                        NaN           Web            6/10/2014   \n",
       "4                        NaN           Web            9/13/2014   \n",
       "\n",
       "  Company response to consumer Timely response? Consumer disputed?  \\\n",
       "0      Closed with explanation              Yes                 No   \n",
       "1      Closed with explanation              Yes                 No   \n",
       "2      Closed with explanation              Yes                 No   \n",
       "3      Closed with explanation              Yes                Yes   \n",
       "4      Closed with explanation              Yes                Yes   \n",
       "\n",
       "   Complaint ID  \n",
       "0        759217  \n",
       "1       2141773  \n",
       "2       2163100  \n",
       "3        885638  \n",
       "4       1027760  "
      ]
     },
     "execution_count": 4,
     "metadata": {},
     "output_type": "execute_result"
    }
   ],
   "source": [
    "df.head()"
   ]
  },
  {
   "cell_type": "markdown",
   "metadata": {},
   "source": [
    "## Data cleansing and normalization"
   ]
  },
  {
   "cell_type": "code",
   "execution_count": 5,
   "metadata": {},
   "outputs": [],
   "source": [
    "df = df[~df['Consumer complaint narrative'].isna()]"
   ]
  },
  {
   "cell_type": "code",
   "execution_count": 6,
   "metadata": {},
   "outputs": [
    {
     "name": "stdout",
     "output_type": "stream",
     "text": [
      "<class 'pandas.core.frame.DataFrame'>\n",
      "Int64Index: 199970 entries, 1 to 903982\n",
      "Data columns (total 18 columns):\n",
      "Date received                   199970 non-null object\n",
      "Product                         199970 non-null object\n",
      "Sub-product                     147788 non-null object\n",
      "Issue                           199970 non-null object\n",
      "Sub-issue                       113532 non-null object\n",
      "Consumer complaint narrative    199970 non-null object\n",
      "Company public response         95433 non-null object\n",
      "Company                         199970 non-null object\n",
      "State                           199407 non-null object\n",
      "ZIP code                        199389 non-null object\n",
      "Tags                            33446 non-null object\n",
      "Consumer consent provided?      199970 non-null object\n",
      "Submitted via                   199970 non-null object\n",
      "Date sent to company            199970 non-null object\n",
      "Company response to consumer    199970 non-null object\n",
      "Timely response?                199970 non-null object\n",
      "Consumer disputed?              164121 non-null object\n",
      "Complaint ID                    199970 non-null int64\n",
      "dtypes: int64(1), object(17)\n",
      "memory usage: 29.0+ MB\n"
     ]
    }
   ],
   "source": [
    "df.info()"
   ]
  },
  {
   "cell_type": "code",
   "execution_count": 7,
   "metadata": {},
   "outputs": [
    {
     "data": {
      "text/plain": [
       "Debt collection                                                                 47915\n",
       "Mortgage                                                                        36582\n",
       "Credit reporting                                                                31592\n",
       "Credit card                                                                     18842\n",
       "Bank account or service                                                         14888\n",
       "Credit reporting, credit repair services, or other personal consumer reports    14671\n",
       "Student loan                                                                    13304\n",
       "Consumer Loan                                                                    9474\n",
       "Credit card or prepaid card                                                      3355\n",
       "Checking or savings account                                                      2142\n",
       "Payday loan                                                                      1748\n",
       "Money transfers                                                                  1496\n",
       "Prepaid card                                                                     1451\n",
       "Vehicle loan or lease                                                             821\n",
       "Payday loan, title loan, or personal loan                                         697\n",
       "Money transfer, virtual currency, or money service                                684\n",
       "Other financial service                                                           292\n",
       "Virtual currency                                                                   16\n",
       "Name: Product, dtype: int64"
      ]
     },
     "execution_count": 7,
     "metadata": {},
     "output_type": "execute_result"
    }
   ],
   "source": [
    "df.Product.value_counts()"
   ]
  },
  {
   "cell_type": "code",
   "execution_count": 8,
   "metadata": {},
   "outputs": [],
   "source": [
    "\n",
    "df.loc[df['Product'] == 'Credit reporting', 'Product'] = 'Credit reporting, credit repair services, or other personal consumer reports'\n",
    "df.loc[df['Product'] == 'Credit card', 'Product'] = 'Credit card or prepaid card'\n",
    "df.loc[df['Product'] == 'Payday loan', 'Product'] = 'Payday loan, title loan, or personal loan'\n",
    "df.loc[df['Product'] == 'Virtual currency', 'Product'] = 'Money transfer, virtual currency, or money service'\n",
    "df = df[df.Product != 'Other financial service']"
   ]
  },
  {
   "cell_type": "code",
   "execution_count": 9,
   "metadata": {},
   "outputs": [
    {
     "data": {
      "text/plain": [
       "'account credit report mistaken date mailed debt validation letter allow fi correct information received letter mail stating eperian received correspondence found suspicious nt write eperian letter worded imply incapable writing letter deeply offended implication called eperian figure letter suspicious spoke representative incredibly unhelpful effectively answer questions asked kept ignoring saying regarding offensive letter dispute process feel representative wanted satisfied still clear received letter typed letter signed letter paid mail letter yet eperian willfully disregarded lawful request disgusted entire situation would like dispute handled appropriately would like eperian representative contact give real eplanation letter'"
      ]
     },
     "execution_count": 9,
     "metadata": {},
     "output_type": "execute_result"
    }
   ],
   "source": [
    "df = df.reset_index(drop=True)\n",
    "REPLACE_BY_SPACE_RE = re.compile('[/(){}\\[\\]\\|@,;]')\n",
    "BAD_SYMBOLS_RE = re.compile('[^0-9a-z #+_]')\n",
    "STOPWORDS = set(stopwords.words('english'))\n",
    "\n",
    "def clean_text(text):\n",
    "    \"\"\"\n",
    "        text: a string\n",
    "        \n",
    "        return: modified initial string\n",
    "    \"\"\"\n",
    "    text = text.lower() # lowercase text\n",
    "    text = REPLACE_BY_SPACE_RE.sub(' ', text) # replace REPLACE_BY_SPACE_RE symbols by space in text. substitute the matched string in REPLACE_BY_SPACE_RE with space.\n",
    "    text = BAD_SYMBOLS_RE.sub('', text) # remove symbols which are in BAD_SYMBOLS_RE from text. substitute the matched string in BAD_SYMBOLS_RE with nothing. \n",
    "    text = text.replace('x', '')\n",
    "#    text = re.sub(r'\\W+', '', text)\n",
    "    text = ' '.join(word for word in text.split() if word not in STOPWORDS) # remove stopwors from text\n",
    "    return text\n",
    "\n",
    "\n",
    "clean_text('''An ??? account on my && credit report has a mistaken date. I / / mailed in a debt validation letter to allow fix XXXX to correct the information. I received a letter in the mail, stating that Experian received my correspondence and found it to be \" suspicious '' and that \" I did n't write it ''. Experian 's letter is worded to imply that I am incapable of writing my own letter. I was deeply offended by this implication. \n",
    "I called Experian to figure out why my letter was so suspicious. I spoke to a representative who was incredibly unhelpful, She did not effectively answer any questions I asked of her, and she kept ignoring what I was saying regarding the offensive letter and my dispute process. I feel the representative did what she wanted to do, and I am not satisfied. It is STILL not clear to me why I received this letter. I typed this letter, I signed this letter, and I paid to mail this letter, yet Experian willfully disregarded my lawful request. \n",
    "I am disgusted with this entire situation, and I would like for my dispute to be handled appropriately, and I would like for an Experian representative to contact me and give me a real explanation for this letter.''')"
   ]
  },
  {
   "cell_type": "code",
   "execution_count": 10,
   "metadata": {},
   "outputs": [
    {
     "data": {
      "text/plain": [
       "0         outdated information credit report previously ...\n",
       "1         purchased new car car dealer called citizens b...\n",
       "2         account credit report mistaken date mailed deb...\n",
       "3         company refuses provide verification validatio...\n",
       "4         complaint regards square two financial refer c...\n",
       "                                ...                        \n",
       "199673    son taken 2012 er visit insurance time hospita...\n",
       "199674    13 without authorization bank america withdrew...\n",
       "199675    account previously disputed sold towers area e...\n",
       "199676    contacted email caliber home loans refinance c...\n",
       "199677    debit included chapter bk almost two years let...\n",
       "Name: Consumer complaint narrative, Length: 199678, dtype: object"
      ]
     },
     "execution_count": 10,
     "metadata": {},
     "output_type": "execute_result"
    }
   ],
   "source": [
    "df['Consumer complaint narrative'] = df['Consumer complaint narrative'].apply(clean_text)\n",
    "\n",
    "df[\"Consumer complaint narrative\"]"
   ]
  },
  {
   "cell_type": "code",
   "execution_count": 11,
   "metadata": {},
   "outputs": [
    {
     "ename": "NameError",
     "evalue": "name 'print_plot' is not defined",
     "output_type": "error",
     "traceback": [
      "\u001b[1;31m---------------------------------------------------------------------------\u001b[0m",
      "\u001b[1;31mNameError\u001b[0m                                 Traceback (most recent call last)",
      "\u001b[1;32m<ipython-input-11-f8810971151c>\u001b[0m in \u001b[0;36m<module>\u001b[1;34m\u001b[0m\n\u001b[1;32m----> 1\u001b[1;33m \u001b[0mprint_plot\u001b[0m\u001b[1;33m(\u001b[0m\u001b[1;36m10\u001b[0m\u001b[1;33m)\u001b[0m\u001b[1;33m\u001b[0m\u001b[1;33m\u001b[0m\u001b[0m\n\u001b[0m",
      "\u001b[1;31mNameError\u001b[0m: name 'print_plot' is not defined"
     ]
    }
   ],
   "source": [
    "print_plot(10)"
   ]
  },
  {
   "cell_type": "code",
   "execution_count": 12,
   "metadata": {},
   "outputs": [
    {
     "ename": "NameError",
     "evalue": "name 'print_plot' is not defined",
     "output_type": "error",
     "traceback": [
      "\u001b[1;31m---------------------------------------------------------------------------\u001b[0m",
      "\u001b[1;31mNameError\u001b[0m                                 Traceback (most recent call last)",
      "\u001b[1;32m<ipython-input-12-8a8a455dd413>\u001b[0m in \u001b[0;36m<module>\u001b[1;34m\u001b[0m\n\u001b[1;32m----> 1\u001b[1;33m \u001b[0mprint_plot\u001b[0m\u001b[1;33m(\u001b[0m\u001b[1;36m100\u001b[0m\u001b[1;33m)\u001b[0m\u001b[1;33m\u001b[0m\u001b[1;33m\u001b[0m\u001b[0m\n\u001b[0m",
      "\u001b[1;31mNameError\u001b[0m: name 'print_plot' is not defined"
     ]
    }
   ],
   "source": [
    "print_plot(100)"
   ]
  },
  {
   "cell_type": "code",
   "execution_count": 13,
   "metadata": {},
   "outputs": [
    {
     "data": {
      "text/plain": [
       "(array([1.88782e+05, 1.05830e+04, 2.17000e+02, 5.80000e+01, 2.20000e+01,\n",
       "        4.00000e+00, 4.00000e+00, 5.00000e+00, 1.00000e+00, 2.00000e+00]),\n",
       " array([   0. ,  251.6,  503.2,  754.8, 1006.4, 1258. , 1509.6, 1761.2,\n",
       "        2012.8, 2264.4, 2516. ]),\n",
       " <a list of 10 Patch objects>)"
      ]
     },
     "execution_count": 13,
     "metadata": {},
     "output_type": "execute_result"
    },
    {
     "data": {
      "image/png": "[encoded data removed]",
      "text/plain": [
       "<Figure size 432x288 with 1 Axes>"
      ]
     },
     "metadata": {
      "needs_background": "light"
     },
     "output_type": "display_data"
    }
   ],
   "source": [
    "# Cut off text length is around 250\n",
    "messagelength = df['Consumer complaint narrative'].apply(lambda x: len(x.split()))\n",
    "plt.hist(messagelength, log = True)"
   ]
  },
  {
   "cell_type": "code",
   "execution_count": 14,
   "metadata": {},
   "outputs": [
    {
     "name": "stdout",
     "output_type": "stream",
     "text": [
      "Found 108069 unique tokens.\n"
     ]
    }
   ],
   "source": [
    "# The maximum number of words to be used. (most frequent)\n",
    "MAX_NB_WORDS = 50000\n",
    "# Max number of words in each complaint.\n",
    "MAX_SEQUENCE_LENGTH = 250\n",
    "# This is fixed.\n",
    "EMBEDDING_DIM = 10\n",
    "\n",
    "tokenizer = Tokenizer(num_words=MAX_NB_WORDS, filters='!\"#$%&()*+,-./:;<=>?@[\\]^_`{|}~', lower=True)\n",
    "tokenizer.fit_on_texts(df['Consumer complaint narrative'].values)\n",
    "word_index = tokenizer.word_index\n",
    "print('Found %s unique tokens.' % len(word_index))"
   ]
  },
  {
   "cell_type": "code",
   "execution_count": 15,
   "metadata": {},
   "outputs": [
    {
     "name": "stdout",
     "output_type": "stream",
     "text": [
      "Shape of data tensor: (199678, 250)\n",
      "[   0    0    0    0    0    0    0    0    0    0    0    0    0    0\n",
      "    0    0    0    0    0    0    0    0    0    0    0    0    0    0\n",
      "    0    0    0    0    0    0    0    0    0    0    0    0    0    0\n",
      "    0    0    0    0    0    0    0    0    0    0    0    0    0    0\n",
      "    0    0    0    0    0    0    0    0    0    0    0    0    0    0\n",
      "    0    0    0    0    0    0    0    0    0    0    0    0    0    0\n",
      "    0    0    0    0    0    0    0    0    0    0    0    0    0    0\n",
      "    0    0    0    0    0    0    0    0    0    0    0    0    0    0\n",
      "    0    0    0    0    0    0    0    0    0    0    0    0    0    0\n",
      "    0    0    0    0    0    0    0    0    0    0    0    0    0    0\n",
      "    0    0    0    0    0    0    0    0    0    0    0    0    0    0\n",
      "    0    0    0    0    0    0    0    0    0    0    0    0    0    0\n",
      "    0    0    0    0    0    0    0    0    0    0    0    0    0    0\n",
      "    0    0    0    0    0    0    0    0    0    0    0    0    0    0\n",
      "    0    0    0    0    0    0    0    0    0    0    0    0    0    0\n",
      "    0    0    0    0    0    0    0    0    0    0    0    0    0    0\n",
      "    0    0    0    0    0    0    0    0    0    0 2698   10    1    7\n",
      "  542  161  187   80   10 1676   45  333 1105    1   41  729]\n"
     ]
    }
   ],
   "source": [
    "X = tokenizer.texts_to_sequences(df['Consumer complaint narrative'].values)\n",
    "X = pad_sequences(X, maxlen=MAX_SEQUENCE_LENGTH)\n",
    "print('Shape of data tensor:', X.shape)\n",
    "\n",
    "print(X[0])"
   ]
  },
  {
   "cell_type": "code",
   "execution_count": 16,
   "metadata": {},
   "outputs": [
    {
     "name": "stdout",
     "output_type": "stream",
     "text": [
      "Shape of label tensor: (199678, 13)\n"
     ]
    }
   ],
   "source": [
    "Y = pd.get_dummies(df['Product']).values\n",
    "print('Shape of label tensor:', Y.shape)"
   ]
  },
  {
   "cell_type": "code",
   "execution_count": 17,
   "metadata": {},
   "outputs": [
    {
     "name": "stdout",
     "output_type": "stream",
     "text": [
      "(179710, 250) (179710, 13)\n",
      "(19968, 250) (19968, 13)\n"
     ]
    }
   ],
   "source": [
    "X_train, X_test, Y_train, Y_test = train_test_split(X,Y, test_size = 0.10, random_state = 42)\n",
    "print(X_train.shape,Y_train.shape)\n",
    "print(X_test.shape,Y_test.shape)"
   ]
  },
  {
   "cell_type": "markdown",
   "metadata": {},
   "source": [
    "## LSTM Modeling"
   ]
  },
  {
   "cell_type": "code",
   "execution_count": 18,
   "metadata": {},
   "outputs": [
    {
     "name": "stdout",
     "output_type": "stream",
     "text": [
      "_________________________________________________________________\n",
      "Layer (type)                 Output Shape              Param #   \n",
      "=================================================================\n",
      "embedding_1 (Embedding)      (None, 250, 10)           500000    \n",
      "_________________________________________________________________\n",
      "lstm_1 (LSTM)                (None, 20)                2480      \n",
      "_________________________________________________________________\n",
      "dense_1 (Dense)              (None, 13)                273       \n",
      "=================================================================\n",
      "Total params: 502,753\n",
      "Trainable params: 502,753\n",
      "Non-trainable params: 0\n",
      "_________________________________________________________________\n",
      "None\n"
     ]
    }
   ],
   "source": [
    "model = Sequential()\n",
    "model.add(Embedding(MAX_NB_WORDS, EMBEDDING_DIM, input_length=X.shape[1]))\n",
    "# model.add(SpatialDropout1D(0.2))\n",
    "model.add(LSTM(20, dropout=0.2, recurrent_dropout=0.2))\n",
    "model.add(Dense(13, activation='softmax'))\n",
    "model.compile(loss='categorical_crossentropy', optimizer='adam', metrics=['accuracy'])\n",
    "print(model.summary())"
   ]
  },
  {
   "cell_type": "code",
   "execution_count": 71,
   "metadata": {},
   "outputs": [
    {
     "name": "stdout",
     "output_type": "stream",
     "text": [
      "Train on 161739 samples, validate on 17971 samples\n",
      "Epoch 1/5\n",
      "161739/161739 [==============================] - 1144s 7ms/step - loss: 1.3955 - acc: 0.5349 - val_loss: 1.0465 - val_acc: 0.6616\n",
      "Epoch 2/5\n",
      "161739/161739 [==============================] - 852s 5ms/step - loss: 1.0341 - acc: 0.6715 - val_loss: 0.8516 - val_acc: 0.7532\n",
      "Epoch 3/5\n",
      "161739/161739 [==============================] - 882s 5ms/step - loss: 0.8856 - acc: 0.7378 - val_loss: 0.7598 - val_acc: 0.7816\n",
      "Epoch 4/5\n",
      "161739/161739 [==============================] - 846s 5ms/step - loss: 0.7884 - acc: 0.7713 - val_loss: 0.7085 - val_acc: 0.7932\n",
      "Epoch 5/5\n",
      "161739/161739 [==============================] - 776s 5ms/step - loss: 0.7313 - acc: 0.7867 - val_loss: 0.6656 - val_acc: 0.8042\n"
     ]
    }
   ],
   "source": [
    "epochs = 5\n",
    "batch_size = 64\n",
    "\n",
    "history = model.fit(X_train, Y_train, epochs=epochs, batch_size=batch_size,validation_split=0.1,callbacks=[EarlyStopping(monitor='val_loss', patience=3, min_delta=0.0001)])"
   ]
  },
  {
   "cell_type": "code",
   "execution_count": 72,
   "metadata": {},
   "outputs": [
    {
     "name": "stdout",
     "output_type": "stream",
     "text": [
      "19968/19968 [==============================] - 24s 1ms/step\n",
      "Test set\n",
      "  Loss: 0.671\n",
      "  Accuracy: 0.801\n"
     ]
    }
   ],
   "source": [
    "accr = model.evaluate(X_test,Y_test)\n",
    "print('Test set\\n  Loss: {:0.3f}\\n  Accuracy: {:0.3f}'.format(accr[0],accr[1]))"
   ]
  },
  {
   "cell_type": "code",
   "execution_count": 79,
   "metadata": {},
   "outputs": [
    {
     "data": {
      "image/png": "[encoded data removed]",
      "text/plain": [
       "<Figure size 432x288 with 1 Axes>"
      ]
     },
     "metadata": {
      "needs_background": "light"
     },
     "output_type": "display_data"
    }
   ],
   "source": [
    "plt.title('Loss')\n",
    "plt.plot(history.history['loss'], label='train')\n",
    "plt.plot(history.history['val_loss'], label='validation')\n",
    "plt.legend()\n",
    "plt.show();"
   ]
  },
  {
   "cell_type": "code",
   "execution_count": 80,
   "metadata": {},
   "outputs": [
    {
     "data": {
      "image/png": "[encoded data removed]",
      "text/plain": [
       "<Figure size 432x288 with 1 Axes>"
      ]
     },
     "metadata": {
      "needs_background": "light"
     },
     "output_type": "display_data"
    }
   ],
   "source": [
    "plt.title('Accuracy')\n",
    "plt.plot(history.history['acc'], label='train')\n",
    "plt.plot(history.history['val_acc'], label='validation')\n",
    "plt.legend()\n",
    "plt.show();"
   ]
  },
  {
   "cell_type": "markdown",
   "metadata": {},
   "source": [
    "Test with new complaint."
   ]
  },
  {
   "cell_type": "code",
   "execution_count": 81,
   "metadata": {},
   "outputs": [
    {
     "name": "stdout",
     "output_type": "stream",
     "text": [
      "[[6.4740337e-02 4.5811664e-03 3.7975729e-02 6.5524626e-01 1.9073328e-01\n",
      "  2.9743910e-02 7.5191469e-04 1.1461723e-03 5.7343715e-03 1.2943110e-03\n",
      "  5.0070076e-03 4.4566256e-04 2.5998254e-03]] Credit card or prepaid card\n"
     ]
    }
   ],
   "source": [
    "new_complaint = ['I am a victim of identity theft and someone stole my identity and personal information to open up a Visa credit card account with Bank of America. The following Bank of America Visa credit card account do not belong to me : XXXX.']\n",
    "seq = tokenizer.texts_to_sequences(new_complaint)\n",
    "padded = pad_sequences(seq, maxlen=MAX_SEQUENCE_LENGTH)\n",
    "pred = model.predict(padded)\n",
    "labels = ['Credit reporting, credit repair services, or other personal consumer reports', 'Debt collection', 'Mortgage', 'Credit card or prepaid card', 'Student loan', 'Bank account or service', 'Checking or savings account', 'Consumer Loan', 'Payday loan, title loan, or personal loan', 'Vehicle loan or lease', 'Money transfer, virtual currency, or money service', 'Money transfers', 'Prepaid card']\n",
    "print(pred, labels[np.argmax(pred)])"
   ]
  },
  {
   "cell_type": "markdown",
   "metadata": {},
   "source": [
    "Apply confusion matrix"
   ]
  },
  {
   "cell_type": "code",
   "execution_count": 19,
   "metadata": {},
   "outputs": [],
   "source": [
    "y_train_predict = model.predict(X_train)"
   ]
  },
  {
   "cell_type": "code",
   "execution_count": 20,
   "metadata": {},
   "outputs": [
    {
     "name": "stdout",
     "output_type": "stream",
     "text": [
      "[ 7  4 10 ...  7  7  6]\n",
      "[ 2  3  4 ... 11  0  4]\n"
     ]
    },
    {
     "data": {
      "text/html": [
       "<div>\n",
       "<style scoped>\n",
       "    .dataframe tbody tr th:only-of-type {\n",
       "        vertical-align: middle;\n",
       "    }\n",
       "\n",
       "    .dataframe tbody tr th {\n",
       "        vertical-align: top;\n",
       "    }\n",
       "\n",
       "    .dataframe thead th {\n",
       "        text-align: right;\n",
       "    }\n",
       "</style>\n",
       "<table border=\"1\" class=\"dataframe\">\n",
       "  <thead>\n",
       "    <tr style=\"text-align: right;\">\n",
       "      <th></th>\n",
       "      <th>0</th>\n",
       "      <th>1</th>\n",
       "      <th>2</th>\n",
       "      <th>3</th>\n",
       "      <th>4</th>\n",
       "      <th>5</th>\n",
       "      <th>6</th>\n",
       "      <th>7</th>\n",
       "      <th>8</th>\n",
       "      <th>9</th>\n",
       "      <th>10</th>\n",
       "      <th>11</th>\n",
       "      <th>12</th>\n",
       "    </tr>\n",
       "  </thead>\n",
       "  <tbody>\n",
       "    <tr>\n",
       "      <td>0</td>\n",
       "      <td>883</td>\n",
       "      <td>1402</td>\n",
       "      <td>845</td>\n",
       "      <td>592</td>\n",
       "      <td>1551</td>\n",
       "      <td>962</td>\n",
       "      <td>1163</td>\n",
       "      <td>1493</td>\n",
       "      <td>1206</td>\n",
       "      <td>399</td>\n",
       "      <td>778</td>\n",
       "      <td>62</td>\n",
       "      <td>2113</td>\n",
       "    </tr>\n",
       "    <tr>\n",
       "      <td>1</td>\n",
       "      <td>126</td>\n",
       "      <td>168</td>\n",
       "      <td>129</td>\n",
       "      <td>84</td>\n",
       "      <td>231</td>\n",
       "      <td>138</td>\n",
       "      <td>148</td>\n",
       "      <td>214</td>\n",
       "      <td>170</td>\n",
       "      <td>58</td>\n",
       "      <td>123</td>\n",
       "      <td>8</td>\n",
       "      <td>316</td>\n",
       "    </tr>\n",
       "    <tr>\n",
       "      <td>2</td>\n",
       "      <td>537</td>\n",
       "      <td>763</td>\n",
       "      <td>838</td>\n",
       "      <td>409</td>\n",
       "      <td>1210</td>\n",
       "      <td>625</td>\n",
       "      <td>786</td>\n",
       "      <td>888</td>\n",
       "      <td>879</td>\n",
       "      <td>152</td>\n",
       "      <td>451</td>\n",
       "      <td>53</td>\n",
       "      <td>942</td>\n",
       "    </tr>\n",
       "    <tr>\n",
       "      <td>3</td>\n",
       "      <td>1501</td>\n",
       "      <td>1890</td>\n",
       "      <td>1593</td>\n",
       "      <td>955</td>\n",
       "      <td>2752</td>\n",
       "      <td>1259</td>\n",
       "      <td>1918</td>\n",
       "      <td>2238</td>\n",
       "      <td>1874</td>\n",
       "      <td>404</td>\n",
       "      <td>1076</td>\n",
       "      <td>103</td>\n",
       "      <td>2456</td>\n",
       "    </tr>\n",
       "    <tr>\n",
       "      <td>4</td>\n",
       "      <td>2620</td>\n",
       "      <td>3028</td>\n",
       "      <td>3350</td>\n",
       "      <td>1899</td>\n",
       "      <td>8464</td>\n",
       "      <td>3628</td>\n",
       "      <td>3174</td>\n",
       "      <td>4361</td>\n",
       "      <td>4258</td>\n",
       "      <td>489</td>\n",
       "      <td>2244</td>\n",
       "      <td>187</td>\n",
       "      <td>3937</td>\n",
       "    </tr>\n",
       "    <tr>\n",
       "      <td>5</td>\n",
       "      <td>3073</td>\n",
       "      <td>3250</td>\n",
       "      <td>3666</td>\n",
       "      <td>2143</td>\n",
       "      <td>6378</td>\n",
       "      <td>3281</td>\n",
       "      <td>4147</td>\n",
       "      <td>5083</td>\n",
       "      <td>4794</td>\n",
       "      <td>634</td>\n",
       "      <td>2469</td>\n",
       "      <td>237</td>\n",
       "      <td>3908</td>\n",
       "    </tr>\n",
       "    <tr>\n",
       "      <td>6</td>\n",
       "      <td>52</td>\n",
       "      <td>43</td>\n",
       "      <td>45</td>\n",
       "      <td>34</td>\n",
       "      <td>89</td>\n",
       "      <td>49</td>\n",
       "      <td>43</td>\n",
       "      <td>65</td>\n",
       "      <td>63</td>\n",
       "      <td>14</td>\n",
       "      <td>41</td>\n",
       "      <td>8</td>\n",
       "      <td>87</td>\n",
       "    </tr>\n",
       "    <tr>\n",
       "      <td>7</td>\n",
       "      <td>97</td>\n",
       "      <td>140</td>\n",
       "      <td>99</td>\n",
       "      <td>66</td>\n",
       "      <td>159</td>\n",
       "      <td>80</td>\n",
       "      <td>136</td>\n",
       "      <td>146</td>\n",
       "      <td>126</td>\n",
       "      <td>39</td>\n",
       "      <td>78</td>\n",
       "      <td>4</td>\n",
       "      <td>183</td>\n",
       "    </tr>\n",
       "    <tr>\n",
       "      <td>8</td>\n",
       "      <td>2112</td>\n",
       "      <td>3519</td>\n",
       "      <td>2692</td>\n",
       "      <td>1643</td>\n",
       "      <td>3691</td>\n",
       "      <td>2317</td>\n",
       "      <td>2707</td>\n",
       "      <td>3631</td>\n",
       "      <td>3051</td>\n",
       "      <td>686</td>\n",
       "      <td>1814</td>\n",
       "      <td>217</td>\n",
       "      <td>4781</td>\n",
       "    </tr>\n",
       "    <tr>\n",
       "      <td>9</td>\n",
       "      <td>132</td>\n",
       "      <td>252</td>\n",
       "      <td>168</td>\n",
       "      <td>147</td>\n",
       "      <td>275</td>\n",
       "      <td>168</td>\n",
       "      <td>178</td>\n",
       "      <td>218</td>\n",
       "      <td>222</td>\n",
       "      <td>50</td>\n",
       "      <td>131</td>\n",
       "      <td>9</td>\n",
       "      <td>252</td>\n",
       "    </tr>\n",
       "    <tr>\n",
       "      <td>10</td>\n",
       "      <td>113</td>\n",
       "      <td>123</td>\n",
       "      <td>107</td>\n",
       "      <td>71</td>\n",
       "      <td>136</td>\n",
       "      <td>100</td>\n",
       "      <td>130</td>\n",
       "      <td>161</td>\n",
       "      <td>112</td>\n",
       "      <td>29</td>\n",
       "      <td>71</td>\n",
       "      <td>5</td>\n",
       "      <td>153</td>\n",
       "    </tr>\n",
       "    <tr>\n",
       "      <td>11</td>\n",
       "      <td>660</td>\n",
       "      <td>1349</td>\n",
       "      <td>992</td>\n",
       "      <td>628</td>\n",
       "      <td>1496</td>\n",
       "      <td>815</td>\n",
       "      <td>1116</td>\n",
       "      <td>1065</td>\n",
       "      <td>1275</td>\n",
       "      <td>290</td>\n",
       "      <td>685</td>\n",
       "      <td>75</td>\n",
       "      <td>1554</td>\n",
       "    </tr>\n",
       "    <tr>\n",
       "      <td>12</td>\n",
       "      <td>46</td>\n",
       "      <td>55</td>\n",
       "      <td>72</td>\n",
       "      <td>41</td>\n",
       "      <td>115</td>\n",
       "      <td>52</td>\n",
       "      <td>61</td>\n",
       "      <td>88</td>\n",
       "      <td>77</td>\n",
       "      <td>12</td>\n",
       "      <td>36</td>\n",
       "      <td>5</td>\n",
       "      <td>74</td>\n",
       "    </tr>\n",
       "  </tbody>\n",
       "</table>\n",
       "</div>"
      ],
      "text/plain": [
       "       0     1     2     3     4     5     6     7     8    9    10   11    12\n",
       "0    883  1402   845   592  1551   962  1163  1493  1206  399   778   62  2113\n",
       "1    126   168   129    84   231   138   148   214   170   58   123    8   316\n",
       "2    537   763   838   409  1210   625   786   888   879  152   451   53   942\n",
       "3   1501  1890  1593   955  2752  1259  1918  2238  1874  404  1076  103  2456\n",
       "4   2620  3028  3350  1899  8464  3628  3174  4361  4258  489  2244  187  3937\n",
       "5   3073  3250  3666  2143  6378  3281  4147  5083  4794  634  2469  237  3908\n",
       "6     52    43    45    34    89    49    43    65    63   14    41    8    87\n",
       "7     97   140    99    66   159    80   136   146   126   39    78    4   183\n",
       "8   2112  3519  2692  1643  3691  2317  2707  3631  3051  686  1814  217  4781\n",
       "9    132   252   168   147   275   168   178   218   222   50   131    9   252\n",
       "10   113   123   107    71   136   100   130   161   112   29    71    5   153\n",
       "11   660  1349   992   628  1496   815  1116  1065  1275  290   685   75  1554\n",
       "12    46    55    72    41   115    52    61    88    77   12    36    5    74"
      ]
     },
     "execution_count": 20,
     "metadata": {},
     "output_type": "execute_result"
    }
   ],
   "source": [
    "# confusion_matrix shows: label 1, 6, 7, 9, 10, and 12 have no prediction.  Because there are very little data for these labels.\n",
    "\n",
    "y_train_predict_label = np.argmax(np.asarray(y_train_predict), axis = 1)\n",
    "y_train_true_label = np.argmax(np.asarray(Y_train), axis =1)\n",
    "\n",
    "print(y_train_predict_label)\n",
    "\n",
    "print(y_train_true_label)\n",
    "\n",
    "result_table = confusion_matrix(y_train_true_label, y_train_predict_label)\n",
    "\n",
    "pd.DataFrame(data = result_table)"
   ]
  },
  {
   "cell_type": "markdown",
   "metadata": {},
   "source": [
    "\n",
    "Position_Embedding and Attention is from https://github.com/foamliu/Self-Attention-Keras/blob/master/attention.py"
   ]
  },
  {
   "cell_type": "code",
   "execution_count": 21,
   "metadata": {},
   "outputs": [],
   "source": [
    "class Position_Embedding(Layer):\n",
    "\n",
    "    def __init__(self, size=None, mode='sum', **kwargs):\n",
    "        self.size = size  \n",
    "        self.mode = mode\n",
    "        super(Position_Embedding, self).__init__(**kwargs)\n",
    "\n",
    "    def call(self, x):\n",
    "        if (self.size == None) or (self.mode == 'sum'):\n",
    "            self.size = int(x.shape[-1])\n",
    "        batch_size, seq_len = K.shape(x)[0], K.shape(x)[1]\n",
    "        position_j = 1. / K.pow(10000., 2 * K.arange(self.size / 2, dtype='float32') / self.size)\n",
    "        position_j = K.expand_dims(position_j, 0)\n",
    "        position_i = K.cumsum(K.ones_like(x[:, :, 0]), 1) - 1 \n",
    "        position_i = K.expand_dims(position_i, 2)\n",
    "        position_ij = K.dot(position_i, position_j)\n",
    "        position_ij = K.concatenate([K.cos(position_ij), K.sin(position_ij)], 2)\n",
    "        if self.mode == 'sum':\n",
    "            return position_ij + x\n",
    "        elif self.mode == 'concat':\n",
    "            return K.concatenate([position_ij, x], 2)\n",
    "\n",
    "    def compute_output_shape(self, input_shape):\n",
    "        if self.mode == 'sum':\n",
    "            return input_shape\n",
    "        elif self.mode == 'concat':\n",
    "            return (input_shape[0], input_shape[1], input_shape[2] + self.size)\n",
    "\n",
    "\n",
    "\n",
    "class Attention(Layer):\n",
    "\n",
    "    def __init__(self, nb_head, size_per_head, **kwargs):\n",
    "        self.nb_head = nb_head\n",
    "        self.size_per_head = size_per_head\n",
    "        self.output_dim = nb_head * size_per_head\n",
    "        super(Attention, self).__init__(**kwargs)\n",
    "\n",
    "    def build(self, input_shape):\n",
    "        self.WQ = self.add_weight(name='WQ',\n",
    "                                  shape=(input_shape[0][-1], self.output_dim),\n",
    "                                  initializer='glorot_uniform',\n",
    "                                  trainable=True)\n",
    "        self.WK = self.add_weight(name='WK',\n",
    "                                  shape=(input_shape[1][-1], self.output_dim),\n",
    "                                  initializer='glorot_uniform',\n",
    "                                  trainable=True)\n",
    "        self.WV = self.add_weight(name='WV',\n",
    "                                  shape=(input_shape[2][-1], self.output_dim),\n",
    "                                  initializer='glorot_uniform',\n",
    "                                  trainable=True)\n",
    "        super(Attention, self).build(input_shape)\n",
    "\n",
    "    def Mask(self, inputs, seq_len, mode='mul'):\n",
    "        if seq_len == None:\n",
    "            return inputs\n",
    "        else:\n",
    "            mask = K.one_hot(seq_len[:, 0], K.shape(inputs)[1])\n",
    "            mask = 1 - K.cumsum(mask, 1)\n",
    "            for _ in range(len(inputs.shape) - 2):\n",
    "                mask = K.expand_dims(mask, 2)\n",
    "            if mode == 'mul':\n",
    "                return inputs * mask\n",
    "            if mode == 'add':\n",
    "                return inputs - (1 - mask) * 1e12\n",
    "\n",
    "    def call(self, x):\n",
    "        if len(x) == 3:\n",
    "            Q_seq, K_seq, V_seq = x\n",
    "            Q_len, V_len = None, None\n",
    "        elif len(x) == 5:\n",
    "            Q_seq, K_seq, V_seq, Q_len, V_len = x\n",
    "       \n",
    "        Q_seq = K.dot(Q_seq, self.WQ)\n",
    "        Q_seq = K.reshape(Q_seq, (-1, K.shape(Q_seq)[1], self.nb_head, self.size_per_head))\n",
    "        Q_seq = K.permute_dimensions(Q_seq, (0, 2, 1, 3))\n",
    "        K_seq = K.dot(K_seq, self.WK)\n",
    "        K_seq = K.reshape(K_seq, (-1, K.shape(K_seq)[1], self.nb_head, self.size_per_head))\n",
    "        K_seq = K.permute_dimensions(K_seq, (0, 2, 1, 3))\n",
    "        V_seq = K.dot(V_seq, self.WV)\n",
    "        V_seq = K.reshape(V_seq, (-1, K.shape(V_seq)[1], self.nb_head, self.size_per_head))\n",
    "        V_seq = K.permute_dimensions(V_seq, (0, 2, 1, 3))\n",
    "       \n",
    "        A = K.batch_dot(Q_seq, K_seq, axes=[3, 3]) / self.size_per_head ** 0.5\n",
    "        A = K.permute_dimensions(A, (0, 3, 2, 1))\n",
    "        A = self.Mask(A, V_len, 'add')\n",
    "        A = K.permute_dimensions(A, (0, 3, 2, 1))\n",
    "        A = K.softmax(A)\n",
    "       \n",
    "        O_seq = K.batch_dot(A, V_seq, axes=[3, 2])\n",
    "        O_seq = K.permute_dimensions(O_seq, (0, 2, 1, 3))\n",
    "        O_seq = K.reshape(O_seq, (-1, K.shape(O_seq)[1], self.output_dim))\n",
    "        O_seq = self.Mask(O_seq, Q_len, 'mul')\n",
    "        return O_seq\n",
    "\n",
    "    def compute_output_shape(self, input_shape):\n",
    "        return (input_shape[0][0], input_shape[0][1], self.output_dim)"
   ]
  },
  {
   "cell_type": "markdown",
   "metadata": {},
   "source": [
    "## Attention based seqence classification modeling"
   ]
  },
  {
   "cell_type": "code",
   "execution_count": 32,
   "metadata": {},
   "outputs": [
    {
     "name": "stdout",
     "output_type": "stream",
     "text": [
      "__________________________________________________________________________________________________\n",
      "Layer (type)                    Output Shape         Param #     Connected to                     \n",
      "==================================================================================================\n",
      "input_6 (InputLayer)            (None, 250)          0                                            \n",
      "__________________________________________________________________________________________________\n",
      "embedding_7 (Embedding)         (None, 250, 10)      500000      input_6[0][0]                    \n",
      "__________________________________________________________________________________________________\n",
      "position__embedding_6 (Position (None, 250, 10)      0           embedding_7[0][0]                \n",
      "__________________________________________________________________________________________________\n",
      "attention_6 (Attention)         (None, 250, 96)      2880        position__embedding_6[0][0]      \n",
      "                                                                 position__embedding_6[0][0]      \n",
      "                                                                 position__embedding_6[0][0]      \n",
      "__________________________________________________________________________________________________\n",
      "global_average_pooling1d_6 (Glo (None, 96)           0           attention_6[0][0]                \n",
      "__________________________________________________________________________________________________\n",
      "dropout_6 (Dropout)             (None, 96)           0           global_average_pooling1d_6[0][0] \n",
      "__________________________________________________________________________________________________\n",
      "dense_7 (Dense)                 (None, 13)           1261        dropout_6[0][0]                  \n",
      "==================================================================================================\n",
      "Total params: 504,141\n",
      "Trainable params: 504,141\n",
      "Non-trainable params: 0\n",
      "__________________________________________________________________________________________________\n",
      "None\n"
     ]
    }
   ],
   "source": [
    "S_inputs = Input(shape=(250,), dtype='int32')\n",
    "\n",
    "embeddings = Embedding(MAX_NB_WORDS, EMBEDDING_DIM, input_length=X.shape[1])(S_inputs)\n",
    "embeddings = Position_Embedding()(embeddings)\n",
    "# lstm = LSTM(20, return_sequences = True)(embeddings)\n",
    "# 8,10 still the best; 10, 12 0.55,0.82; 8, 12\n",
    "O_seq = Attention(8, 12)([embeddings, embeddings, embeddings])\n",
    "O_seq = GlobalAveragePooling1D()(O_seq)\n",
    "O_seq = Dropout(0.5)(O_seq)\n",
    "outputs = Dense(13, activation='softmax')(O_seq)\n",
    "model_attention = Model(inputs=S_inputs, outputs=outputs)\n",
    "\n",
    "model_attention.compile(loss='categorical_crossentropy', optimizer='adam', metrics=['accuracy'])\n",
    "print(model_attention.summary())\n"
   ]
  },
  {
   "cell_type": "code",
   "execution_count": 33,
   "metadata": {},
   "outputs": [
    {
     "name": "stdout",
     "output_type": "stream",
     "text": [
      "Train on 161739 samples, validate on 17971 samples\n",
      "Epoch 1/5\n",
      "161739/161739 [==============================] - 870s 5ms/step - loss: 1.1216 - acc: 0.6357 - val_loss: 0.7244 - val_acc: 0.7835\n",
      "Epoch 2/5\n",
      "161739/161739 [==============================] - 848s 5ms/step - loss: 0.6995 - acc: 0.7918 - val_loss: 0.6107 - val_acc: 0.8096\n",
      "Epoch 3/5\n",
      "161739/161739 [==============================] - 849s 5ms/step - loss: 0.6193 - acc: 0.8135 - val_loss: 0.5739 - val_acc: 0.8239\n",
      "Epoch 4/5\n",
      "161739/161739 [==============================] - 844s 5ms/step - loss: 0.5721 - acc: 0.8269 - val_loss: 0.5406 - val_acc: 0.8331\n",
      "Epoch 5/5\n",
      "161739/161739 [==============================] - 841s 5ms/step - loss: 0.5383 - acc: 0.8369 - val_loss: 0.5318 - val_acc: 0.8362\n",
      "Saved model to disk\n"
     ]
    }
   ],
   "source": [
    "# Training using model_attention\n",
    "epochs = 5\n",
    "batch_size = 64\n",
    "\n",
    "history_attention = model_attention.fit(X_train, Y_train, epochs=epochs, batch_size=batch_size,validation_split=0.1,callbacks=[EarlyStopping(monitor='val_loss', patience=3, min_delta=0.0001)])\n",
    "\n",
    "# save architecture\n",
    "# model_json = model.to_json()\n",
    "# with open(\"model.h5\", \"w\") as json_file:\n",
    "#     json_file.write(model_json)\n",
    "    \n",
    "# # reload model architecture\n",
    "# from keras.models import load_model\n",
    "# model = load_model('model.h5')\n",
    "    \n",
    "    \n",
    "# serialize weights to HDF5\n",
    "model_attention.save_weights(\"model_atten_8_10.h5\")\n",
    "print(\"Saved model to disk\")\n",
    "\n",
    "# # load coefficients\n",
    "# model.load_weights(filename)"
   ]
  },
  {
   "cell_type": "code",
   "execution_count": 26,
   "metadata": {},
   "outputs": [
    {
     "name": "stdout",
     "output_type": "stream",
     "text": [
      "19968/19968 [==============================] - 68s 3ms/step\n",
      "Test set\n",
      "  Loss: 0.552\n",
      "  Accuracy: 0.828\n"
     ]
    }
   ],
   "source": [
    "accr_attention = model_attention.evaluate(X_test,Y_test)\n",
    "print('Test set\\n  Loss: {:0.3f}\\n  Accuracy: {:0.3f}'.format(accr_attention[0],accr_attention[1]))"
   ]
  },
  {
   "cell_type": "markdown",
   "metadata": {},
   "source": [
    "## LSTM and Attention modeling"
   ]
  },
  {
   "cell_type": "code",
   "execution_count": 28,
   "metadata": {},
   "outputs": [
    {
     "name": "stdout",
     "output_type": "stream",
     "text": [
      "__________________________________________________________________________________________________\n",
      "Layer (type)                    Output Shape         Param #     Connected to                     \n",
      "==================================================================================================\n",
      "input_4 (InputLayer)            (None, 250)          0                                            \n",
      "__________________________________________________________________________________________________\n",
      "embedding_5 (Embedding)         (None, 250, 10)      500000      input_4[0][0]                    \n",
      "__________________________________________________________________________________________________\n",
      "position__embedding_4 (Position (None, 250, 10)      0           embedding_5[0][0]                \n",
      "__________________________________________________________________________________________________\n",
      "lstm_3 (LSTM)                   (None, 250, 20)      2480        position__embedding_4[0][0]      \n",
      "__________________________________________________________________________________________________\n",
      "attention_4 (Attention)         (None, 250, 80)      4800        lstm_3[0][0]                     \n",
      "                                                                 lstm_3[0][0]                     \n",
      "                                                                 lstm_3[0][0]                     \n",
      "__________________________________________________________________________________________________\n",
      "global_average_pooling1d_4 (Glo (None, 80)           0           attention_4[0][0]                \n",
      "__________________________________________________________________________________________________\n",
      "dropout_4 (Dropout)             (None, 80)           0           global_average_pooling1d_4[0][0] \n",
      "__________________________________________________________________________________________________\n",
      "dense_5 (Dense)                 (None, 13)           1053        dropout_4[0][0]                  \n",
      "==================================================================================================\n",
      "Total params: 508,333\n",
      "Trainable params: 508,333\n",
      "Non-trainable params: 0\n",
      "__________________________________________________________________________________________________\n",
      "None\n"
     ]
    }
   ],
   "source": [
    "S_inputs = Input(shape=(250,), dtype='int32')\n",
    "\n",
    "embeddings = Embedding(MAX_NB_WORDS, EMBEDDING_DIM, input_length=X.shape[1])(S_inputs)\n",
    "embeddings = Position_Embedding()(embeddings)\n",
    "lstm = LSTM(20, return_sequences = True)(embeddings)\n",
    "O_seq = Attention(8, 10)([lstm, lstm, lstm])\n",
    "O_seq = GlobalAveragePooling1D()(O_seq)\n",
    "O_seq = Dropout(0.5)(O_seq)\n",
    "outputs = Dense(13, activation='softmax')(O_seq)\n",
    "model_lstm_attention = Model(inputs=S_inputs, outputs=outputs)\n",
    "\n",
    "model_lstm_attention.compile(loss='categorical_crossentropy', optimizer='adam', metrics=['accuracy'])\n",
    "print(model_lstm_attention.summary())\n"
   ]
  },
  {
   "cell_type": "code",
   "execution_count": 29,
   "metadata": {},
   "outputs": [
    {
     "name": "stdout",
     "output_type": "stream",
     "text": [
      "Train on 161739 samples, validate on 17971 samples\n",
      "Epoch 1/5\n",
      "161739/161739 [==============================] - 1385s 9ms/step - loss: 1.1190 - acc: 0.6343 - val_loss: 0.8025 - val_acc: 0.7568\n",
      "Epoch 2/5\n",
      "161739/161739 [==============================] - 1397s 9ms/step - loss: 0.7341 - acc: 0.7848 - val_loss: 0.6937 - val_acc: 0.7887\n",
      "Epoch 3/5\n",
      "161739/161739 [==============================] - 1433s 9ms/step - loss: 0.6307 - acc: 0.8143 - val_loss: 0.6250 - val_acc: 0.8078\n",
      "Epoch 4/5\n",
      "161739/161739 [==============================] - 1345s 8ms/step - loss: 0.5658 - acc: 0.8325 - val_loss: 0.6394 - val_acc: 0.8064\n",
      "Epoch 5/5\n",
      "161739/161739 [==============================] - 1326s 8ms/step - loss: 0.5247 - acc: 0.8446 - val_loss: 0.5911 - val_acc: 0.8151\n",
      "Saved model to disk\n"
     ]
    }
   ],
   "source": [
    "# Training using model_attention\n",
    "epochs = 5\n",
    "batch_size = 64\n",
    "\n",
    "history_attention = model_lstm_attention.fit(X_train, Y_train, epochs=epochs, batch_size=batch_size,validation_split=0.1,callbacks=[EarlyStopping(monitor='val_loss', patience=3, min_delta=0.0001)])\n",
    "\n",
    "# save architecture\n",
    "# model_json = model.to_json()\n",
    "# with open(\"model.h5\", \"w\") as json_file:\n",
    "#     json_file.write(model_json)\n",
    "    \n",
    "# # reload model architecture\n",
    "# from keras.models import load_model\n",
    "# model = load_model('model.h5')\n",
    "    \n",
    "    \n",
    "# serialize weights to HDF5\n",
    "model_lstm_attention.save_weights(\"model_lstm_20_atten_8_10.h5\")\n",
    "print(\"Saved model to disk\")\n",
    "\n",
    "# # load coefficients\n",
    "# model.load_weights(filename)"
   ]
  },
  {
   "cell_type": "code",
   "execution_count": 30,
   "metadata": {},
   "outputs": [
    {
     "name": "stdout",
     "output_type": "stream",
     "text": [
      "19968/19968 [==============================] - 73s 4ms/step\n",
      "Test set\n",
      "  Loss: 0.597\n",
      "  Accuracy: 0.818\n"
     ]
    }
   ],
   "source": [
    "accr_lstm_attention = model_lstm_attention.evaluate(X_test,Y_test)\n",
    "print('Test set\\n  Loss: {:0.3f}\\n  Accuracy: {:0.3f}'.format(accr_lstm_attention[0],accr_lstm_attention[1]))"
   ]
  },
  {
   "cell_type": "code",
   "execution_count": null,
   "metadata": {},
   "outputs": [],
   "source": []
  }
 ],
 "metadata": {
  "kernelspec": {
   "display_name": "Python 3",
   "language": "python",
   "name": "python3"
  },
  "language_info": {
   "codemirror_mode": {
    "name": "ipython",
    "version": 3
   },
   "file_extension": ".py",
   "mimetype": "text/x-python",
   "name": "python",
   "nbconvert_exporter": "python",
   "pygments_lexer": "ipython3",
   "version": "3.6.9"
  }
 },
 "nbformat": 4,
 "nbformat_minor": 2
}
